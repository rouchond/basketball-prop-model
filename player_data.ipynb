{
  "cells": [
    {
      "cell_type": "code",
      "execution_count": 1,
      "metadata": {
        "id": "X1PxYB-IIyat"
      },
      "outputs": [],
      "source": [
        "import requests\n",
        "from bs4 import BeautifulSoup"
      ]
    },
    {
      "cell_type": "code",
      "execution_count": 2,
      "metadata": {
        "id": "_sT0RSmYdfsg"
      },
      "outputs": [],
      "source": [
        "headers = {\n",
        "    'User-Agent': 'Mozilla/5.0 (Windows NT 10.0; Win64; x64) AppleWebKit/537.36 (KHTML, like Gecko) Chrome/58.0.3029.110 Safari/537.3'\n",
        "}\n",
        "\n",
        "#We use headers to make the browser look like a user so you don't get blocked\n",
        "\n",
        "res = requests.get(\"https://www.espn.com/nba/seasonleaders\", headers=headers)\n",
        "res.raise_for_status()"
      ]
    },
    {
      "cell_type": "code",
      "execution_count": 3,
      "metadata": {
        "id": "jGbTmw61dk9D"
      },
      "outputs": [],
      "source": [
        "soup = BeautifulSoup(res.text, \"lxml\")\n",
        "\n",
        "player_tbl = soup.find(\"table\", {\"class\": \"tablehead\"})\n",
        "\n",
        "raw_players = player_tbl.find_all(\"tr\")\n",
        "player_li = []\n",
        "for player in raw_players:\n",
        "  if \"colhead\" in player.get(\"class\", []) or \"stathead\" in player.get(\"class\", []):\n",
        "    continue\n",
        "  player_li.append(player)"
      ]
    },
    {
      "cell_type": "code",
      "execution_count": null,
      "metadata": {
        "id": "IXvmyEf3gzNt"
      },
      "outputs": [
        {
          "name": "stdout",
          "output_type": "stream",
          "text": [
            "Nikola Jokic\n",
            "Giannis Antetokounmpo\n",
            "Shai Gilgeous-Alexander\n",
            "Luka Doncic\n",
            "Victor Wembanyama\n",
            "Anthony Davis\n",
            "Cade Cunningham\n",
            "LeBron James\n",
            "Jayson Tatum\n",
            "Karl-Anthony Towns\n",
            "Domantas Sabonis\n",
            "Kevin Durant\n",
            "Trae Young\n",
            "Zion Williamson\n",
            "Anthony Edwards\n",
            "Damian Lillard\n",
            "James Harden\n",
            "Jalen Brunson\n",
            "Devin Booker\n",
            "Tyrese Maxey\n",
            "Paolo Banchero\n",
            "LaMelo Ball\n",
            "Stephen Curry\n",
            "Joel Embiid\n",
            "Kyrie Irving\n",
            "Tyler Herro\n",
            "De'Aaron Fox\n",
            "Jalen Johnson\n",
            "Tyrese Haliburton\n",
            "Franz Wagner\n",
            "Ja Morant\n",
            "Ivica Zubac\n",
            "Alperen Sengun\n",
            "Donovan Mitchell\n",
            "Jalen Williams\n",
            "Nikola Vucevic\n",
            "Evan Mobley\n",
            "Jamal Murray\n",
            "Scottie Barnes\n",
            "Zach LaVine\n",
            "Brandon Ingram\n",
            "Bam Adebayo\n",
            "Jaylen Brown\n",
            "Kawhi Leonard\n",
            "Desmond Bane\n",
            "Pascal Siakam\n",
            "Darius Garland\n",
            "RJ Barrett\n",
            "Austin Reaves\n",
            "Jaren Jackson Jr.\n"
          ]
        }
      ],
      "source": [
        "player_names = []\n",
        "for player in player_li:\n",
        "  for data in player.find_all(\"td\"):\n",
        "    name = data.find(\"a\")\n",
        "    if name:\n",
        "      player_names.append(name.text)"
      ]
    },
    {
      "cell_type": "markdown",
      "metadata": {
        "id": "miAsLJvikI_1"
      },
      "source": [
        "### This section was used to extract the top 50 players according to the ESPN Season Leaders site for the 2024-2025 NBA season. We will be using these players to gather **stats** and **Points Asts props** to train our model to determine whether you should bet over or under on a certain day."
      ]
    }
  ],
  "metadata": {
    "colab": {
      "provenance": []
    },
    "kernelspec": {
      "display_name": ".venv",
      "language": "python",
      "name": "python3"
    },
    "language_info": {
      "codemirror_mode": {
        "name": "ipython",
        "version": 3
      },
      "file_extension": ".py",
      "mimetype": "text/x-python",
      "name": "python",
      "nbconvert_exporter": "python",
      "pygments_lexer": "ipython3",
      "version": "3.11.4"
    }
  },
  "nbformat": 4,
  "nbformat_minor": 0
}
